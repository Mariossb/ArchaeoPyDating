{
  "nbformat": 4,
  "nbformat_minor": 0,
  "metadata": {
    "colab": {
      "provenance": []
    },
    "kernelspec": {
      "name": "python3",
      "display_name": "Python 3"
    },
    "language_info": {
      "name": "python"
    }
  },
  "cells": [
    {
      "cell_type": "markdown",
      "source": [
        "#**ArchaeoPyDating: examples of use**"
      ],
      "metadata": {
        "id": "kj2Sna5LfK2p"
      }
    },
    {
      "cell_type": "markdown",
      "source": [
        "In this Notebook we are going to show the steps followed to obtain the results obtained in the *Section 4.2: \"Using the Python module: validation and limitations\"* of the article. These examples serve as a guide of use of the ArchaeoPyDating Python module."
      ],
      "metadata": {
        "id": "gKtamGzlhHgI"
      }
    },
    {
      "cell_type": "markdown",
      "source": [
        "## **Installing and Importing the module**"
      ],
      "metadata": {
        "id": "CGzNnIKbfaod"
      }
    },
    {
      "cell_type": "markdown",
      "source": [
        "The installation process may take some time (about a minute):"
      ],
      "metadata": {
        "id": "6555cdEfI8Kx"
      }
    },
    {
      "cell_type": "code",
      "execution_count": 1,
      "metadata": {
        "colab": {
          "base_uri": "https://localhost:8080/"
        },
        "id": "eNyCwDG4aYH8",
        "outputId": "de4a08a5-2e52-4555-b227-0a92c84705ae"
      },
      "outputs": [
        {
          "output_type": "stream",
          "name": "stdout",
          "text": [
            "  Preparing metadata (setup.py) ... \u001b[?25l\u001b[?25hdone\n",
            "  Building wheel for ArchaeoPyDating (setup.py) ... \u001b[?25l\u001b[?25hdone\n"
          ]
        }
      ],
      "source": [
        "! pip install -q git+https://github.com/Mariossb/ArchaeoPyDating.git"
      ]
    },
    {
      "cell_type": "code",
      "source": [
        "import ArchaeoPyDating as apd"
      ],
      "metadata": {
        "id": "6jekI834b-bj"
      },
      "execution_count": 2,
      "outputs": []
    },
    {
      "cell_type": "markdown",
      "source": [
        "To know the available reference curves you can execute:"
      ],
      "metadata": {
        "id": "Dz87bFzAiLmo"
      }
    },
    {
      "cell_type": "code",
      "source": [
        "apd.available_psvc()"
      ],
      "metadata": {
        "colab": {
          "base_uri": "https://localhost:8080/"
        },
        "id": "WsFyHOKwjyjg",
        "outputId": "258798ba-90ff-4d52-edc0-bc6041d7dfd6"
      },
      "execution_count": 12,
      "outputs": [
        {
          "output_type": "stream",
          "name": "stdout",
          "text": [
            "\n",
            "Local PSVCs:\n",
            "- Iberia: Molina-Cardín et al. (2018) [D,I,F] [1000 BC - 1900 AD]\n",
            "- Iberia (Iron Age): Osete et al. (2020) [D,I,F] [1100 BC - 100 BC]\n",
            "- France (directional): Le Goff et al. (2020) [D,I] [70 BC - 1700 AD]\n",
            "- France (intensity): Genevey et al. (2021) [F] [300 AD - 1850 AD]\n",
            "- Western Europe (directional 1st millennium BC, Hervé et al. 2013): Hervé et al. (2013a) [D,I] [1500 BC - 200 AD]\n",
            "- Western Europe (intensity 1st millennium BC, Hervé et al. 2013): Hervé et al. (2013b) [F] [1500 BC - 200 AD]\n",
            "- Italy: Tema and Lanos (2021) [D,I,F] [900 BC - 1980 AD] (F only for [700 BC - 1800 AD])\n",
            "- Great Britain (directional): Batt et al. (2017) [D,I] [6000 BC - 1980 AD]\n",
            "- Bulgaria: Kovacheva et al. (2014) [D,I,F] [6000 BC - 1800 AC]\n",
            "- Cyprus: Tema et al. (2021) [D,I] [2000 BC - 1900 AC]\n",
            "- Azores: Béguin et al. (2020) [D,I,F] [500 BC - 2000 AD]\n",
            "- Europe Neolithic (directional): Carrancho et al. (2013) [D,I] [6000 BC - 1000 AD]\n",
            "- Hawaii: Tema et al. (2017) [D,I,F] [8000 BC - 1950 AD]\n",
            "- New Zealand: Turner and Corkill (2023) [D,I,F] [9325 BC - 1875 AD]\n",
            "- New Zealand (high resolution last 1 kyr): Turner and Corkill (2023) [D,I,F] [1025 AD - 2000 AD]\n",
            "- Mexico (directional): García-Ruiz et al. (2022)[D,I] [1472 BC - 1947 AD]\n",
            "- Mexico (intensity): García-Ruiz et al. (2021)[F] [1600 BC - 1946 AD]\n",
            "- LAC.v.2.0 (Levant intensity): Hassul et al. (2024) [F] [3200 BC - 550 AD]\n",
            "\n",
            "Global Models:\n",
            "- SHA.DIF.14k: SHA.DIF.14k (Pavón-Carrasco et al., 2014) [12000 BC - 1900 AD]\n",
            "- SHAWQ2k: SHAWQ2k (Campuzano et al., 2019) [100 BC - 1900 AD]\n",
            "- SHAWQ-IronAge: SHAWQ-IronAge (Osete et al., 2020) [1300 BC - 0 AD]\n",
            "- ArchKalmag14k.r: ArchKalmag14k.r (Schanner et al., 2022) [12000 BC - 1950 AD]\n",
            "- BIGMUDI4k.1: BIGMUDI4k.1 (Arneitz et al., 2019) [2000 BC - 2000 AD]\n",
            "\n",
            "Regional Models:\n",
            "- SCHA.DIF.4k: SCHA.DIF.4k (Pavón-Carrasco et al., 2021) [2000 BC - 1900 AD]\n",
            "- SCHAFRICA.DIF.4k: SCHAFRICA.DIF.4k (Di Chiara and Pavón-Carrasco, 2022) [2000 BC - 1900 AD]\n"
          ]
        }
      ]
    },
    {
      "cell_type": "markdown",
      "source": [
        "## **Case Study**"
      ],
      "metadata": {
        "id": "uxnVdYq_fp0W"
      }
    },
    {
      "cell_type": "markdown",
      "source": [
        "In this example our focus will be on analyzing an archaeomagnetic dating study conducted on a medieval kiln located within the archaeological site of La Pudia (41.81ºN/3.45ºW, Burgos, Spain). The original study detailing this research can be accessed in García-Redondo et al. (2020) (https://doi.org/10.1007/s12520-020-01041-1).\n",
        "\n",
        "For the selected kiln, a full-vector archaeomagnetic analysis was reported, yielding the following results:\n",
        "\n",
        "\n",
        "*   D = 20.5º\n",
        "*   I = 52.7º\n",
        "*    α₉₅ = 2.1º\n",
        "*   F = 53.9 μT\n",
        "*   σF = 4.6 μT\n",
        "\n",
        "Our initial step in utilizing the tool involves defining a Python object that represents this archaeological artifact:"
      ],
      "metadata": {
        "id": "GpLC6x52gtoW"
      }
    },
    {
      "cell_type": "code",
      "source": [
        "artifact = apd.Data(\n",
        "    D = 20.5,\n",
        "    I = 52.6,\n",
        "    a95 = 1.1,\n",
        "    F = 53.9,\n",
        "    eF = 4.6,\n",
        "    lat = 41.81,\n",
        "    lon = -3.45,\n",
        "    sitename = \"La Pudia\"\n",
        ")"
      ],
      "metadata": {
        "id": "f5g0xiGFiAku"
      },
      "execution_count": 3,
      "outputs": []
    },
    {
      "cell_type": "markdown",
      "source": [
        "To proceed with the archaeomagnetic dating process, it is essential to select a Paleosecular Variation Curve (PSVC) that describes the past evolution of the geomagnetic field elements at a certain location.\n",
        "\n",
        "In this instance, we will utilize a PSVC derived from the European regional model SCHA.DIF.4k (Pavón-Carrasco et al. 2021) (https://doi.org/10.1029/2020JB021237).\n",
        "\n",
        "Our next step involves creating another Python object, this time representing the reference curve. It's important to note that since the curve needs to be synthesized from a regional model, the coordinates for the target location (La Pudia) must be specified:"
      ],
      "metadata": {
        "id": "GUqXBxAFms6o"
      }
    },
    {
      "cell_type": "code",
      "source": [
        "curve = apd.Curve(rmodel = \"SCHA.DIF.4k\", lat = artifact.lat, lon = artifact.lon)"
      ],
      "metadata": {
        "id": "nb2jtWmfoEIf"
      },
      "execution_count": 4,
      "outputs": []
    },
    {
      "cell_type": "markdown",
      "source": [
        "When utilizing this object directly, the reference curve will be applied over its entire temporal range (in the case of the SCHA.DIF.4k model, the last 4000 years). However, if we wish to focus solely on a specific interval within this range, we can define it using the **int_temp(tmin,tmax)** function. Here, *tmin* and *tmax* represent the lower and upper limits, respectively, of the desired temporal interval.\n",
        "\n",
        "For instance, in this scenario, we can narrow our analysis to the years Anno Domini (AD):"
      ],
      "metadata": {
        "id": "pcKqbxJVoK79"
      }
    },
    {
      "cell_type": "code",
      "source": [
        "curve.int_temp(0, 1900)"
      ],
      "metadata": {
        "id": "kRfiyDUOpM46"
      },
      "execution_count": 5,
      "outputs": []
    },
    {
      "cell_type": "markdown",
      "source": [
        "Following the creation of Python objects for both the archaeological artifact and the reference curve, the next step is to generate an object that represents their combination. This combined object will facilitate further analysis and computations necessary for the archaeomagnetic dating process."
      ],
      "metadata": {
        "id": "jdGGo8-Kqf-L"
      }
    },
    {
      "cell_type": "code",
      "source": [
        "combination = apd.Dating(artifact, curve)"
      ],
      "metadata": {
        "id": "aTEcbT7_q3Ur"
      },
      "execution_count": 6,
      "outputs": []
    },
    {
      "cell_type": "markdown",
      "source": [
        "Using this combined object, we can derive the probability density functions (PDFs) for each geomagnetic element. These PDFs illustrate the comparison between the undated archaeomagnetic data and the reference curve:\n",
        "\n"
      ],
      "metadata": {
        "id": "7suJc8OHq-W7"
      }
    },
    {
      "cell_type": "code",
      "source": [
        "zD = combination.datingX('D')    # for declination\n",
        "zI = combination.datingX('I')    # for inclination\n",
        "zF = combination.datingX('F')    # for intensity"
      ],
      "metadata": {
        "id": "CMUFDpv6q8KK"
      },
      "execution_count": 7,
      "outputs": []
    },
    {
      "cell_type": "markdown",
      "source": [
        "These PDFs are defined from the minimum time of the curve (in this case, 0) to its upper limit (in this case, 1900) in steps of one year.\n",
        "\n",
        "These PDFs for each geomagnetic element can be combained  to derive PDFs representing the joint comparison of two or three elements. For example, we create two combined PDFs:\n",
        "\n",
        "\n",
        "1.   One representing directional dating\n",
        "2.   The other representing full-vector dating\n",
        "\n"
      ],
      "metadata": {
        "id": "YyAFSE4zriDs"
      }
    },
    {
      "cell_type": "code",
      "source": [
        "zDI = combination.zcomb(zD, zI)  # directional\n",
        "zDIF = combination.zcomb(zD, zI, zF)  # full-vector"
      ],
      "metadata": {
        "id": "S6iw5u9hsYdk"
      },
      "execution_count": 8,
      "outputs": []
    },
    {
      "cell_type": "markdown",
      "source": [
        "To compare the PDFs for these last two cases, along with the alleged case where only the intensity element is dated, we plot the corresponding PDFs:"
      ],
      "metadata": {
        "id": "6bxnsX_ctRjb"
      }
    },
    {
      "cell_type": "code",
      "source": [
        "import matplotlib.pyplot as plt   # library for ploting\n",
        "import numpy as np\n",
        "\n",
        "fig = plt.figure()\n",
        "plt.rcParams['font.size'] = 14\n",
        "\n",
        "# temporal axis for plotting (from the minimum time of the curve to its upper limit in steps of one year)\n",
        "t = np.arange(\n",
        "    min(curve.t), max(curve.t)+1\n",
        ")\n",
        "\n",
        "plt.plot(t, zF, label = \"Intensity\",     color=\"violet\")\n",
        "plt.plot(t, zDI, label = \"Directional\",  color=\"magenta\")\n",
        "plt.plot(t, zDIF, label = \"Full-Vector\", color=\"indigo\")\n",
        "\n",
        "plt.xlabel('Year')\n",
        "plt.ylabel('PDF')\n",
        "plt.xlim(min(t), max(t))\n",
        "plt.ylim(0, None)\n",
        "plt.grid(True)\n",
        "plt.legend()\n",
        "plt.show()\n"
      ],
      "metadata": {
        "colab": {
          "base_uri": "https://localhost:8080/",
          "height": 459
        },
        "id": "8m3SxVC2uEOd",
        "outputId": "09144c3e-612f-4e79-d63f-b551fbdc0569"
      },
      "execution_count": 9,
      "outputs": [
        {
          "output_type": "display_data",
          "data": {
            "text/plain": [
              "<Figure size 640x480 with 1 Axes>"
            ],
            "image/png": "[encoded data removed]"
          },
          "metadata": {}
        }
      ]
    },
    {
      "cell_type": "markdown",
      "source": [
        "We can also determine the corresponding dating intervals at a certain level of confidence (e.g., 95%) by calculating the corresponding thresholds. These thresholds represent the height at which the area enclosed by the PDF accounts for 95% of its total area, thus indicating the level of certainty associated with the dating interval."
      ],
      "metadata": {
        "id": "ZvMmnlWoGghJ"
      }
    },
    {
      "cell_type": "code",
      "source": [
        "cl = 95   # confidence level\n",
        "\n",
        "# thresholds:\n",
        "hF = combination.pb(zF, cl)\n",
        "hDI = combination.pb(zDI, cl)\n",
        "hDIF = combination.pb(zDIF, cl)\n",
        "\n",
        "# results:\n",
        "result_F = combination.pb_h(zF, hF)\n",
        "result_DI = combination.pb_h(zDI, hDI)\n",
        "result_DIF = combination.pb_h(zDIF, hDIF)\n",
        "\n",
        "print(\"Intensity result:\")\n",
        "print(result_F)\n",
        "print(\"Directional result:\")\n",
        "print(result_DI)\n",
        "print(\"Full-Vector result:\")\n",
        "print(result_DIF)"
      ],
      "metadata": {
        "colab": {
          "base_uri": "https://localhost:8080/"
        },
        "id": "bqCJfyksGgKo",
        "outputId": "ecb88251-046b-4a49-be47-f8937d162c60"
      },
      "execution_count": 10,
      "outputs": [
        {
          "output_type": "stream",
          "name": "stdout",
          "text": [
            "Intensity result:\n",
            "{'Dating result 1': [0, 105], 'Dating result 2': [110, 540], 'Dating result 3': [925, 1690]}\n",
            "Directional result:\n",
            "{'Dating result 1': [1010, 1115]}\n",
            "Full-Vector result:\n",
            "{'Dating result 1': [1010, 1115]}\n"
          ]
        }
      ]
    },
    {
      "cell_type": "markdown",
      "source": [
        "Based on the figure and the dating results depicted above, we can make some observations:\n",
        "\n",
        "\n",
        "*   Dating solely based on one geomagnetic field element (intensity) results in a wide temporal interval without a clearly defined dating range. This is a very common situation when dating with only one geomagnetic field element. In such instances, archaeomagnetic dating can offer a possible age interval estimation but lacks precision for age determination.\n",
        "*   In this scenario, both directional and full-vector dating cases yield similar results. This coherence arises because, in this case, the directional information alone is adequate to establish a unique dating interval. However, it's worth noting that this may not always be the case. In situations where directional data presents multiple potential time intervals, incorporating the intensity element helps in eliminating some of these intervals, leading to a more refined dating outcome.\n",
        "\n"
      ],
      "metadata": {
        "id": "LImaXJpYA_ku"
      }
    },
    {
      "cell_type": "markdown",
      "source": [
        "Following with this example, we can illustrate here the dating of the same material/object using different reference curves. Given the archaeological site location and the target temporal interval, we may choose different reference curves to conduct the dating:\n",
        "\n",
        "\n",
        "1.   **Local PSVC for Iberia**: We can utilize the PSVC defined for the Iberian Peninsula by Molina-Cardín et al. (2018) (https://doi.org/10.1029/2018GC007781).\n",
        "2.   **European Regional Model**: Another option is to synthesize a PSVC from a European regional model, such as the SCHA.DIF.4k (Pavón-Carrasco et al., 2021) (https://doi.org/10.1029/2020JB021237), which is in fact the model used in the precedent examples.\n",
        "3. **Global Model**: Alternatively, we can synthesize a PSVC from a global model, such as the SHAWQ2k (Campuzano et al., 2019) (https://doi.org/10.1016/j.epsl.2019.01.050). This model is particularly suitable for our artifact due to the database used for its construction (many data comming from Iberia) and its defined temporal interval.\n",
        "\n"
      ],
      "metadata": {
        "id": "x1Hm1RGddjCg"
      }
    },
    {
      "cell_type": "code",
      "source": [
        "curve1 = apd.Curve(local = \"Iberia\")\n",
        "curve2 = apd.Curve(rmodel = \"SCHA.DIF.4k\", lat=artifact.lat, lon=artifact.lon)\n",
        "curve3 = apd.Curve(gmodel = \"SHAWQ2k\", lat=artifact.lat, lon=artifact.lon)\n",
        "\n",
        "# make an object with the three reference curves\n",
        "curves = [curve1, curve2, curve3]\n",
        "\n",
        "# define the same time interval for the three\n",
        "for curvei in curves:\n",
        "  curvei.int_temp(0, 1900)"
      ],
      "metadata": {
        "id": "IHfSrg1bflRn"
      },
      "execution_count": 11,
      "outputs": []
    },
    {
      "cell_type": "markdown",
      "source": [
        "It's important to note that when synthesizing the PSVC from a model (regional or global), we need to specify the location for which we want to synthesize the curve. However, this isn't necessary for the local curve, as it is already defined for a specific location. In this scenario, we must relocate the archaeomagnetic direction/intensity of the artifact to match that specific location.\n",
        "\n",
        "With this consideration in mind, we proceed to create the objects by combining the archaeological artifact and the reference curves:"
      ],
      "metadata": {
        "id": "N7UJpW4OF73N"
      }
    },
    {
      "cell_type": "code",
      "source": [
        "from copy import copy   # (a function we will use)\n",
        "\n",
        "combinations = []\n",
        "\n",
        "for curvei in curves:\n",
        "\n",
        "  # if the curve is local, relocate data\n",
        "  if curvei == curve1:\n",
        "    artifact_relocated = copy(artifact)\n",
        "    artifact_relocated.cvp(curvei.lat, curvei.lon)   # conversion via pole (CVP) of the archaeomagnetic directions\n",
        "    artifact_relocated.vdm()                         # translate intensity data using virtual dipole moment (VDM)\n",
        "\n",
        "    combinationi = apd.Dating(artifact_relocated, curvei)\n",
        "\n",
        "\n",
        "  # if using a regional/global model, use directly the data\n",
        "  else:\n",
        "    combinationi = apd.Dating(artifact, curvei)\n",
        "\n",
        "  combinations.append(combinationi)\n"
      ],
      "metadata": {
        "id": "2JHtDS-iHbiL"
      },
      "execution_count": 13,
      "outputs": []
    },
    {
      "cell_type": "markdown",
      "source": [
        "With the combinations created, we can now proceed to calculate the PDFs representing the archaeomagnetic dating results with each of the curves. For this analysis, we will utilize the full-vector dating:"
      ],
      "metadata": {
        "id": "5ECy8KKMMyfi"
      }
    },
    {
      "cell_type": "code",
      "source": [
        "zD, zI, zF = [], [], []\n",
        "z = []\n",
        "\n",
        "for combinationi in combinations:\n",
        "    zDi = combinationi.datingX('D')\n",
        "    zIi = combinationi.datingX('I')\n",
        "    zFi = combinationi.datingX('F')\n",
        "    zi = combinationi.zcomb(zDi, zIi, zFi)\n",
        "\n",
        "    zD.append(zDi), zI.append(zIi), zF.append(zFi)\n",
        "    z.append(zi)"
      ],
      "metadata": {
        "id": "_PhVgdXcNVpJ"
      },
      "execution_count": 14,
      "outputs": []
    },
    {
      "cell_type": "markdown",
      "source": [
        "By plotting the PDFs and displaying the corresponding results at 95% confidence, we can compare the dating obtained with each of the reference curves:"
      ],
      "metadata": {
        "id": "YfdsF7LvNsaE"
      }
    },
    {
      "cell_type": "code",
      "source": [
        "## FIGURE ##\n",
        "\n",
        "fig = plt.figure()\n",
        "\n",
        "\n",
        "for i in range(3):\n",
        "\n",
        "  # temporal axis for plotting (from the minimum time of the curve to its upper limit in steps of one year)\n",
        "  t = np.arange(\n",
        "      min(curves[i].t), max(curves[i].t)+1\n",
        "  )\n",
        "\n",
        "  plt.plot(t, z[i], label = curves[i].name)\n",
        "\n",
        "\n",
        "plt.xlabel('Year')\n",
        "plt.ylabel('PDF')\n",
        "plt.xlim(min(t), max(t))\n",
        "plt.ylim(0, None)\n",
        "plt.grid(True)\n",
        "plt.legend()\n",
        "plt.show()\n",
        "\n",
        "\n",
        "## DATING RESULTS ##\n",
        "\n",
        "cl = 95   # confidence level\n",
        "\n",
        "for i in range(3):\n",
        "\n",
        "  # threshold:\n",
        "  h = combinations[i].pb(z[i], cl)\n",
        "  # result:\n",
        "  result = combinations[i].pb_h(z[i], h)\n",
        "  print(\"Result for \"+curves[i].name+\":\")\n",
        "  print(result)"
      ],
      "metadata": {
        "colab": {
          "base_uri": "https://localhost:8080/",
          "height": 563
        },
        "id": "i46_jI8lN81U",
        "outputId": "3f1e0e7a-2431-44f4-d3e7-b07d2d753bb2"
      },
      "execution_count": 15,
      "outputs": [
        {
          "output_type": "display_data",
          "data": {
            "text/plain": [
              "<Figure size 640x480 with 1 Axes>"
            ],
            "image/png": "[encoded data removed]"
          },
          "metadata": {}
        },
        {
          "output_type": "stream",
          "name": "stdout",
          "text": [
            "Result for Iberia:\n",
            "{'Dating result 1': [990, 1050]}\n",
            "Result for SCHA.DIF.4k  (regional model):\n",
            "{'Dating result 1': [1010, 1115]}\n",
            "Result for SHAWQ2k  (global model):\n",
            "{'Dating result 1': [940, 1080]}\n"
          ]
        }
      ]
    },
    {
      "cell_type": "markdown",
      "source": [
        "In this dating case, the three selected reference curves produce similar and compatible dating estimations, all indicating an age for the artifact within the range of the 11th century. The SCHA.DIF.4k regional model yields the broader time interval, with results slightly shifted to younger ages compared to the other two curves. Conversely, the results obtained from the local curve and the global model SHAWQ2k almost coincide, with the local curve providing the narrower time interval estimation.\n",
        "\n",
        "This convergence of results among different curves or models may not always occur, especially if outdated curves or models are utilized, or if the past evolution of the geomagnetic field in the target region is not well-constrained due to a scarcity of prior archaeomagnetic data that serves as input for model construction. This last situation is particularly plausible in regions of the southern hemisphere, where the availability of archaeomagnetic data is notably limited."
      ],
      "metadata": {
        "id": "CZG3sUGVh-ss"
      }
    }
  ]
}